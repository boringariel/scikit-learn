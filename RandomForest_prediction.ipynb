{
 "cells": [
  {
   "cell_type": "code",
   "execution_count": 22,
   "metadata": {},
   "outputs": [],
   "source": [
    "import pandas as pd\n",
    "from sklearn.ensemble import RandomForestClassifier\n",
    "from sklearn.datasets import make_classification\n",
    "from sklearn.model_selection import train_test_split\n",
    "from sklearn import metrics"
   ]
  },
  {
   "cell_type": "code",
   "execution_count": 3,
   "metadata": {},
   "outputs": [],
   "source": [
    "df = pd.read_csv('./ORCA_max_CIBERSORT.txt', sep='\\t', index_col=0)\n",
    "df = df.iloc[:,0:-3]"
   ]
  },
  {
   "cell_type": "code",
   "execution_count": 81,
   "metadata": {},
   "outputs": [],
   "source": [
    "from __future__ import absolute_import\n",
    "from __future__ import division\n",
    "from __future__ import print_function\n",
    "\n",
    "import pandas as pd\n",
    "import tensorflow as tf\n",
    "import numpy as np\n",
    "\n",
    "from sklearn.model_selection import train_test_split\n",
    "from sklearn.cluster import KMeans\n",
    "from sklearn.manifold import TSNE\n",
    "import matplotlib.pyplot as plt\n",
    "import collections\n",
    "from sklearn.metrics import adjusted_mutual_info_score, \\\n",
    "normalized_mutual_info_score, mutual_info_score, adjusted_rand_score\n",
    "\n",
    "class_labels = {0 : 'high_risk', 1 : 'low_risk'}\n",
    "seed=1055460630\n",
    "\n",
    "\n",
    "\n",
    "\n",
    "np.random.seed(seed)\n",
    "tf.set_random_seed(seed)\n",
    "tf.compat.v1.set_random_seed(seed)\n",
    "\n",
    "train_x = 'training_set_forICGC.csv'\n",
    "\n",
    "\n",
    "\n",
    "train_x = train_x.replace('\\ufeff','')\n",
    "# test_x = train_x.replace('\\ufeff','')\n",
    "\n",
    "# train the model\n",
    "\n",
    "X,y = tf.contrib.learn.datasets.base.load_csv_with_header(\n",
    "    filename=train_x,\n",
    "    target_dtype=np.int,\n",
    "    features_dtype=np.float32)\n",
    "\n",
    "X_train,X_test,y_train,y_test = train_test_split(\n",
    "    X,y,train_size = 0.8,test_size = 0.2,random_state = seed\n",
    ")\n",
    "\n",
    "test_set = X_test,y_test\n",
    "\n",
    "\n",
    "X_test1,X_test2,y_test1,y_test2 = train_test_split(\n",
    "    X_test,y_test,train_size = 0.5,test_size=0.5,random_state=seed\n",
    ")"
   ]
  },
  {
   "cell_type": "code",
   "execution_count": 120,
   "metadata": {},
   "outputs": [
    {
     "name": "stdout",
     "output_type": "stream",
     "text": [
      "1 1 1 0.6470588235294118\n",
      "1 1 2 0.6764705882352942\n",
      "1 6 6 0.7058823529411765\n",
      "1 7 1 0.7647058823529411\n",
      "2 7 1 0.7941176470588235\n",
      "2 7 2 0.8235294117647058\n",
      "3 3 2 0.8529411764705882\n",
      "3 8 3 0.8823529411764706\n",
      "4 8 2 0.9117647058823529\n",
      "5 8 3 0.9411764705882353\n"
     ]
    }
   ],
   "source": [
    "import warnings\n",
    "warnings.simplefilter(action='ignore', category=FutureWarning)\n",
    "\n",
    "accu2 = 0\n",
    "for i in range(1,11):\n",
    "    for j in range(1,23):\n",
    "        for k in range(1,51):\n",
    "            clf = RandomForestClassifier(max_depth=i, random_state=0, max_features=j, n_estimators=k)\n",
    "\n",
    "            clf.fit(X_train, y_train)\n",
    "\n",
    "            y_pred1 = clf.predict(X_test1)\n",
    "            y_pred2 = clf.predict(X_test2)\n",
    "\n",
    "            accu = (metrics.accuracy_score(y_test1, y_pred1)+metrics.accuracy_score(y_test2, y_pred2))/2\n",
    "\n",
    "            if accu2 < accu:\n",
    "                accu2 = accu\n",
    "                print(i, j, k, accu2)"
   ]
  },
  {
   "cell_type": "code",
   "execution_count": 122,
   "metadata": {},
   "outputs": [
    {
     "data": {
      "text/plain": [
       "RandomForestClassifier(bootstrap=True, class_weight=None, criterion='gini',\n",
       "            max_depth=5, max_features=3, max_leaf_nodes=None,\n",
       "            min_impurity_decrease=0.0, min_impurity_split=None,\n",
       "            min_samples_leaf=1, min_samples_split=2,\n",
       "            min_weight_fraction_leaf=0.0, n_estimators=10, n_jobs=None,\n",
       "            oob_score=False, random_state=8, verbose=0, warm_start=False)"
      ]
     },
     "execution_count": 122,
     "metadata": {},
     "output_type": "execute_result"
    }
   ],
   "source": [
    "clf = RandomForestClassifier(max_depth=5, random_state=8, max_features=3)\n",
    "\n",
    "clf.fit(X_train, y_train)"
   ]
  },
  {
   "cell_type": "code",
   "execution_count": 129,
   "metadata": {},
   "outputs": [],
   "source": [
    "new_pred = clf.predict(df)\n",
    "\n",
    "df['pred'] = new_pred\n",
    "\n",
    "df.to_csv('./cibersort_random_forest_pred.csv')"
   ]
  }
 ],
 "metadata": {
  "kernelspec": {
   "display_name": "Python 3",
   "language": "python",
   "name": "python3"
  },
  "language_info": {
   "codemirror_mode": {
    "name": "ipython",
    "version": 3
   },
   "file_extension": ".py",
   "mimetype": "text/x-python",
   "name": "python",
   "nbconvert_exporter": "python",
   "pygments_lexer": "ipython3",
   "version": "3.7.3"
  }
 },
 "nbformat": 4,
 "nbformat_minor": 4
}
