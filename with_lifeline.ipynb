{
 "cells": [
  {
   "cell_type": "markdown",
   "metadata": {},
   "source": [
    "## Survival analysis\n",
    "* K-M plot과 cox 비례위험모형을 이용\n",
    "---"
   ]
  },
  {
   "cell_type": "code",
   "execution_count": 1,
   "metadata": {},
   "outputs": [],
   "source": [
    "import pandas as pd\n",
    "import matplotlib.pyplot as plt\n",
    "import seaborn as sb\n",
    "from sksurv.nonparametric import kaplan_meier_estimator\n",
    "from sksurv.preprocessing import OneHotEncoder\n",
    "from lifelines import CoxPHFitter\n",
    "\n",
    "pd.set_option('display.max_columns', 500)\n",
    "sb.set()"
   ]
  },
  {
   "cell_type": "code",
   "execution_count": 2,
   "metadata": {},
   "outputs": [
    {
     "data": {
      "text/html": [
       "<div>\n",
       "<style scoped>\n",
       "    .dataframe tbody tr th:only-of-type {\n",
       "        vertical-align: middle;\n",
       "    }\n",
       "\n",
       "    .dataframe tbody tr th {\n",
       "        vertical-align: top;\n",
       "    }\n",
       "\n",
       "    .dataframe thead th {\n",
       "        text-align: right;\n",
       "    }\n",
       "</style>\n",
       "<table border=\"1\" class=\"dataframe\">\n",
       "  <thead>\n",
       "    <tr style=\"text-align: right;\">\n",
       "      <th></th>\n",
       "      <th>case_id</th>\n",
       "      <th>submitter_id</th>\n",
       "      <th>project_id</th>\n",
       "      <th>gender</th>\n",
       "      <th>year_of_birth</th>\n",
       "      <th>race</th>\n",
       "      <th>days_to_birth</th>\n",
       "      <th>ethnicity</th>\n",
       "      <th>vital_status</th>\n",
       "      <th>days_to_death</th>\n",
       "      <th>age_at_index</th>\n",
       "      <th>year_of_death</th>\n",
       "      <th>year_of_diagnosis</th>\n",
       "      <th>classification_of_tumor</th>\n",
       "      <th>last_known_disease_status</th>\n",
       "      <th>primary_diagnosis</th>\n",
       "      <th>tumor_stage</th>\n",
       "      <th>age_at_diagnosis</th>\n",
       "      <th>morphology</th>\n",
       "      <th>days_to_last_known_disease_status</th>\n",
       "      <th>prior_treatment</th>\n",
       "      <th>days_to_recurrence</th>\n",
       "      <th>tumor_grade</th>\n",
       "      <th>icd_10_code</th>\n",
       "      <th>days_to_diagnosis</th>\n",
       "      <th>tissue_or_organ_of_origin</th>\n",
       "      <th>progression_or_recurrence</th>\n",
       "      <th>prior_malignancy</th>\n",
       "      <th>synchronous_malignancy</th>\n",
       "      <th>site_of_resection_or_biopsy</th>\n",
       "      <th>days_to_last_follow_up</th>\n",
       "      <th>days_to_treatment_start</th>\n",
       "      <th>treatment_effect</th>\n",
       "      <th>initial_disease_status</th>\n",
       "      <th>treatment_type</th>\n",
       "      <th>therapeutic_agents</th>\n",
       "      <th>regimen_or_line_of_therapy</th>\n",
       "      <th>treatment_intent_type</th>\n",
       "      <th>treatment_anatomic_site</th>\n",
       "      <th>treatment_outcome</th>\n",
       "      <th>days_to_treatment_end</th>\n",
       "      <th>treatment_or_therapy</th>\n",
       "    </tr>\n",
       "  </thead>\n",
       "  <tbody>\n",
       "    <tr>\n",
       "      <th>522</th>\n",
       "      <td>d189a6c6-210f-4957-b500-457d5ce3f867</td>\n",
       "      <td>TCGA-CR-7404</td>\n",
       "      <td>TCGA-HNSC</td>\n",
       "      <td>male</td>\n",
       "      <td>1955</td>\n",
       "      <td>white</td>\n",
       "      <td>-19532</td>\n",
       "      <td>not hispanic or latino</td>\n",
       "      <td>Alive</td>\n",
       "      <td>--</td>\n",
       "      <td>53</td>\n",
       "      <td>--</td>\n",
       "      <td>2008</td>\n",
       "      <td>not reported</td>\n",
       "      <td>not reported</td>\n",
       "      <td>Squamous cell carcinoma, NOS</td>\n",
       "      <td>not reported</td>\n",
       "      <td>19532</td>\n",
       "      <td>Mar-70</td>\n",
       "      <td>--</td>\n",
       "      <td>No</td>\n",
       "      <td>--</td>\n",
       "      <td>not reported</td>\n",
       "      <td>C09.9</td>\n",
       "      <td>0</td>\n",
       "      <td>Tonsil, NOS</td>\n",
       "      <td>not reported</td>\n",
       "      <td>no</td>\n",
       "      <td>No</td>\n",
       "      <td>Tonsil, NOS</td>\n",
       "      <td>1472</td>\n",
       "      <td>Radiation Therapy, NOS</td>\n",
       "      <td>--</td>\n",
       "      <td>--</td>\n",
       "      <td>yes</td>\n",
       "      <td>--</td>\n",
       "      <td>--</td>\n",
       "      <td>--</td>\n",
       "      <td>--</td>\n",
       "      <td>--</td>\n",
       "      <td>--</td>\n",
       "      <td>--</td>\n",
       "    </tr>\n",
       "    <tr>\n",
       "      <th>523</th>\n",
       "      <td>9d469689-0413-4898-aa83-c6756cbfe117</td>\n",
       "      <td>TCGA-HL-7533</td>\n",
       "      <td>TCGA-HNSC</td>\n",
       "      <td>male</td>\n",
       "      <td>1943</td>\n",
       "      <td>white</td>\n",
       "      <td>-23950</td>\n",
       "      <td>not hispanic or latino</td>\n",
       "      <td>Alive</td>\n",
       "      <td>--</td>\n",
       "      <td>65</td>\n",
       "      <td>--</td>\n",
       "      <td>2008</td>\n",
       "      <td>not reported</td>\n",
       "      <td>not reported</td>\n",
       "      <td>Squamous cell carcinoma, NOS</td>\n",
       "      <td>not reported</td>\n",
       "      <td>23950</td>\n",
       "      <td>Mar-70</td>\n",
       "      <td>--</td>\n",
       "      <td>No</td>\n",
       "      <td>--</td>\n",
       "      <td>not reported</td>\n",
       "      <td>C14.8</td>\n",
       "      <td>0</td>\n",
       "      <td>Overlapping lesion of lip, oral cavity and pha...</td>\n",
       "      <td>not reported</td>\n",
       "      <td>no</td>\n",
       "      <td>No</td>\n",
       "      <td>Overlapping lesion of lip, oral cavity and pha...</td>\n",
       "      <td>1057</td>\n",
       "      <td>Radiation Therapy, NOS</td>\n",
       "      <td>--</td>\n",
       "      <td>--</td>\n",
       "      <td>no</td>\n",
       "      <td>--</td>\n",
       "      <td>--</td>\n",
       "      <td>--</td>\n",
       "      <td>--</td>\n",
       "      <td>--</td>\n",
       "      <td>--</td>\n",
       "      <td>--</td>\n",
       "    </tr>\n",
       "    <tr>\n",
       "      <th>524</th>\n",
       "      <td>242bdece-75dc-45b9-a9b3-3e1bc305a3e3</td>\n",
       "      <td>TCGA-CR-7373</td>\n",
       "      <td>TCGA-HNSC</td>\n",
       "      <td>male</td>\n",
       "      <td>1943</td>\n",
       "      <td>white</td>\n",
       "      <td>-24448</td>\n",
       "      <td>not hispanic or latino</td>\n",
       "      <td>Alive</td>\n",
       "      <td>--</td>\n",
       "      <td>66</td>\n",
       "      <td>--</td>\n",
       "      <td>2009</td>\n",
       "      <td>not reported</td>\n",
       "      <td>not reported</td>\n",
       "      <td>Squamous cell carcinoma, NOS</td>\n",
       "      <td>stage iva</td>\n",
       "      <td>24448</td>\n",
       "      <td>Mar-70</td>\n",
       "      <td>--</td>\n",
       "      <td>No</td>\n",
       "      <td>--</td>\n",
       "      <td>not reported</td>\n",
       "      <td>C14.8</td>\n",
       "      <td>0</td>\n",
       "      <td>Overlapping lesion of lip, oral cavity and pha...</td>\n",
       "      <td>not reported</td>\n",
       "      <td>no</td>\n",
       "      <td>No</td>\n",
       "      <td>Overlapping lesion of lip, oral cavity and pha...</td>\n",
       "      <td>889</td>\n",
       "      <td>Radiation Therapy, NOS</td>\n",
       "      <td>--</td>\n",
       "      <td>--</td>\n",
       "      <td>yes</td>\n",
       "      <td>--</td>\n",
       "      <td>--</td>\n",
       "      <td>--</td>\n",
       "      <td>--</td>\n",
       "      <td>--</td>\n",
       "      <td>--</td>\n",
       "      <td>--</td>\n",
       "    </tr>\n",
       "    <tr>\n",
       "      <th>525</th>\n",
       "      <td>6a0490ea-d9c6-41cf-bec3-3257e98cc6ed</td>\n",
       "      <td>TCGA-CQ-A4C9</td>\n",
       "      <td>TCGA-HNSC</td>\n",
       "      <td>male</td>\n",
       "      <td>1955</td>\n",
       "      <td>not reported</td>\n",
       "      <td>-20732</td>\n",
       "      <td>not reported</td>\n",
       "      <td>Alive</td>\n",
       "      <td>--</td>\n",
       "      <td>56</td>\n",
       "      <td>--</td>\n",
       "      <td>2011</td>\n",
       "      <td>not reported</td>\n",
       "      <td>not reported</td>\n",
       "      <td>Squamous cell carcinoma, NOS</td>\n",
       "      <td>stage iii</td>\n",
       "      <td>20732</td>\n",
       "      <td>Mar-70</td>\n",
       "      <td>--</td>\n",
       "      <td>No</td>\n",
       "      <td>--</td>\n",
       "      <td>not reported</td>\n",
       "      <td>C04.0</td>\n",
       "      <td>0</td>\n",
       "      <td>Anterior floor of mouth</td>\n",
       "      <td>not reported</td>\n",
       "      <td>no</td>\n",
       "      <td>No</td>\n",
       "      <td>Anterior floor of mouth</td>\n",
       "      <td>707</td>\n",
       "      <td>Radiation Therapy, NOS</td>\n",
       "      <td>--</td>\n",
       "      <td>--</td>\n",
       "      <td>yes</td>\n",
       "      <td>--</td>\n",
       "      <td>--</td>\n",
       "      <td>--</td>\n",
       "      <td>--</td>\n",
       "      <td>--</td>\n",
       "      <td>--</td>\n",
       "      <td>--</td>\n",
       "    </tr>\n",
       "    <tr>\n",
       "      <th>526</th>\n",
       "      <td>59a7d695-cb0c-47b8-ba9d-ca52ca2cfa7d</td>\n",
       "      <td>TCGA-H7-A76A</td>\n",
       "      <td>TCGA-HNSC</td>\n",
       "      <td>male</td>\n",
       "      <td>1956</td>\n",
       "      <td>white</td>\n",
       "      <td>-20946</td>\n",
       "      <td>not hispanic or latino</td>\n",
       "      <td>Alive</td>\n",
       "      <td>--</td>\n",
       "      <td>57</td>\n",
       "      <td>--</td>\n",
       "      <td>2013</td>\n",
       "      <td>not reported</td>\n",
       "      <td>not reported</td>\n",
       "      <td>Squamous cell carcinoma, keratinizing, NOS</td>\n",
       "      <td>not reported</td>\n",
       "      <td>20946</td>\n",
       "      <td>Mar-71</td>\n",
       "      <td>--</td>\n",
       "      <td>No</td>\n",
       "      <td>--</td>\n",
       "      <td>not reported</td>\n",
       "      <td>C09.9</td>\n",
       "      <td>0</td>\n",
       "      <td>Tonsil, NOS</td>\n",
       "      <td>not reported</td>\n",
       "      <td>no</td>\n",
       "      <td>No</td>\n",
       "      <td>Tonsil, NOS</td>\n",
       "      <td>637</td>\n",
       "      <td>Radiation Therapy, NOS</td>\n",
       "      <td>--</td>\n",
       "      <td>--</td>\n",
       "      <td>yes</td>\n",
       "      <td>--</td>\n",
       "      <td>--</td>\n",
       "      <td>--</td>\n",
       "      <td>--</td>\n",
       "      <td>--</td>\n",
       "      <td>--</td>\n",
       "      <td>--</td>\n",
       "    </tr>\n",
       "  </tbody>\n",
       "</table>\n",
       "</div>"
      ],
      "text/plain": [
       "                                  case_id  submitter_id project_id gender  \\\n",
       "522  d189a6c6-210f-4957-b500-457d5ce3f867  TCGA-CR-7404  TCGA-HNSC   male   \n",
       "523  9d469689-0413-4898-aa83-c6756cbfe117  TCGA-HL-7533  TCGA-HNSC   male   \n",
       "524  242bdece-75dc-45b9-a9b3-3e1bc305a3e3  TCGA-CR-7373  TCGA-HNSC   male   \n",
       "525  6a0490ea-d9c6-41cf-bec3-3257e98cc6ed  TCGA-CQ-A4C9  TCGA-HNSC   male   \n",
       "526  59a7d695-cb0c-47b8-ba9d-ca52ca2cfa7d  TCGA-H7-A76A  TCGA-HNSC   male   \n",
       "\n",
       "    year_of_birth          race days_to_birth               ethnicity  \\\n",
       "522          1955         white        -19532  not hispanic or latino   \n",
       "523          1943         white        -23950  not hispanic or latino   \n",
       "524          1943         white        -24448  not hispanic or latino   \n",
       "525          1955  not reported        -20732            not reported   \n",
       "526          1956         white        -20946  not hispanic or latino   \n",
       "\n",
       "    vital_status days_to_death age_at_index year_of_death year_of_diagnosis  \\\n",
       "522        Alive            --           53            --              2008   \n",
       "523        Alive            --           65            --              2008   \n",
       "524        Alive            --           66            --              2009   \n",
       "525        Alive            --           56            --              2011   \n",
       "526        Alive            --           57            --              2013   \n",
       "\n",
       "    classification_of_tumor last_known_disease_status  \\\n",
       "522            not reported              not reported   \n",
       "523            not reported              not reported   \n",
       "524            not reported              not reported   \n",
       "525            not reported              not reported   \n",
       "526            not reported              not reported   \n",
       "\n",
       "                              primary_diagnosis   tumor_stage  \\\n",
       "522                Squamous cell carcinoma, NOS  not reported   \n",
       "523                Squamous cell carcinoma, NOS  not reported   \n",
       "524                Squamous cell carcinoma, NOS     stage iva   \n",
       "525                Squamous cell carcinoma, NOS     stage iii   \n",
       "526  Squamous cell carcinoma, keratinizing, NOS  not reported   \n",
       "\n",
       "    age_at_diagnosis morphology days_to_last_known_disease_status  \\\n",
       "522            19532     Mar-70                                --   \n",
       "523            23950     Mar-70                                --   \n",
       "524            24448     Mar-70                                --   \n",
       "525            20732     Mar-70                                --   \n",
       "526            20946     Mar-71                                --   \n",
       "\n",
       "    prior_treatment days_to_recurrence   tumor_grade icd_10_code  \\\n",
       "522              No                 --  not reported       C09.9   \n",
       "523              No                 --  not reported       C14.8   \n",
       "524              No                 --  not reported       C14.8   \n",
       "525              No                 --  not reported       C04.0   \n",
       "526              No                 --  not reported       C09.9   \n",
       "\n",
       "    days_to_diagnosis                          tissue_or_organ_of_origin  \\\n",
       "522                 0                                        Tonsil, NOS   \n",
       "523                 0  Overlapping lesion of lip, oral cavity and pha...   \n",
       "524                 0  Overlapping lesion of lip, oral cavity and pha...   \n",
       "525                 0                            Anterior floor of mouth   \n",
       "526                 0                                        Tonsil, NOS   \n",
       "\n",
       "    progression_or_recurrence prior_malignancy synchronous_malignancy  \\\n",
       "522              not reported               no                     No   \n",
       "523              not reported               no                     No   \n",
       "524              not reported               no                     No   \n",
       "525              not reported               no                     No   \n",
       "526              not reported               no                     No   \n",
       "\n",
       "                           site_of_resection_or_biopsy days_to_last_follow_up  \\\n",
       "522                                        Tonsil, NOS                   1472   \n",
       "523  Overlapping lesion of lip, oral cavity and pha...                   1057   \n",
       "524  Overlapping lesion of lip, oral cavity and pha...                    889   \n",
       "525                            Anterior floor of mouth                    707   \n",
       "526                                        Tonsil, NOS                    637   \n",
       "\n",
       "    days_to_treatment_start treatment_effect initial_disease_status  \\\n",
       "522  Radiation Therapy, NOS               --                     --   \n",
       "523  Radiation Therapy, NOS               --                     --   \n",
       "524  Radiation Therapy, NOS               --                     --   \n",
       "525  Radiation Therapy, NOS               --                     --   \n",
       "526  Radiation Therapy, NOS               --                     --   \n",
       "\n",
       "    treatment_type therapeutic_agents regimen_or_line_of_therapy  \\\n",
       "522            yes                 --                         --   \n",
       "523             no                 --                         --   \n",
       "524            yes                 --                         --   \n",
       "525            yes                 --                         --   \n",
       "526            yes                 --                         --   \n",
       "\n",
       "    treatment_intent_type treatment_anatomic_site treatment_outcome  \\\n",
       "522                    --                      --                --   \n",
       "523                    --                      --                --   \n",
       "524                    --                      --                --   \n",
       "525                    --                      --                --   \n",
       "526                    --                      --                --   \n",
       "\n",
       "    days_to_treatment_end treatment_or_therapy  \n",
       "522                    --                   --  \n",
       "523                    --                   --  \n",
       "524                    --                   --  \n",
       "525                    --                   --  \n",
       "526                    --                   --  "
      ]
     },
     "execution_count": 2,
     "metadata": {},
     "output_type": "execute_result"
    }
   ],
   "source": [
    "df = pd.read_csv('./clinical_data_2.csv')\n",
    "df = df[0:-1]\n",
    "\n",
    "df.tail()"
   ]
  },
  {
   "cell_type": "code",
   "execution_count": 3,
   "metadata": {},
   "outputs": [],
   "source": [
    "#converting data: vital_status >>> bool, days_to_birth >>> abs(int)\n",
    "df['vital_status'] = (df['vital_status'] == 'Dead')\n",
    "df['days_to_birth'] = abs(df['days_to_birth'].astype(int))"
   ]
  },
  {
   "cell_type": "code",
   "execution_count": 4,
   "metadata": {},
   "outputs": [
    {
     "data": {
      "text/plain": [
       "Text(0, 0.5, 'est. probability of survival $\\\\hat{S}(t)$')"
      ]
     },
     "execution_count": 4,
     "metadata": {},
     "output_type": "execute_result"
    },
    {
     "data": {
      "image/png": "[encoded data removed]",
      "text/plain": [
       "<Figure size 432x288 with 1 Axes>"
      ]
     },
     "metadata": {
      "needs_background": "light"
     },
     "output_type": "display_data"
    }
   ],
   "source": [
    "#K-M plot\n",
    "time, survival_prob = kaplan_meier_estimator(df[\"vital_status\"], df[\"days_to_birth\"])\n",
    "plt.step(time, survival_prob, where=\"post\")\n",
    "plt.ylabel(\"est. probability of survival $\\hat{S}(t)$\")"
   ]
  },
  {
   "cell_type": "code",
   "execution_count": 5,
   "metadata": {},
   "outputs": [
    {
     "data": {
      "text/plain": [
       "<matplotlib.legend.Legend at 0x7f10112b0710>"
      ]
     },
     "execution_count": 5,
     "metadata": {},
     "output_type": "execute_result"
    },
    {
     "data": {
      "image/png": "[encoded data removed]",
      "text/plain": [
       "<Figure size 432x288 with 1 Axes>"
      ]
     },
     "metadata": {
      "needs_background": "light"
     },
     "output_type": "display_data"
    }
   ],
   "source": [
    "#separated by gender\n",
    "for value in df[\"gender\"].unique():\n",
    "    mask = df[\"gender\"] == value\n",
    "    time, survival_prob = kaplan_meier_estimator(df[\"vital_status\"][mask], df[\"days_to_birth\"][mask])\n",
    "    plt.step(time, survival_prob, where=\"post\",\n",
    "             label=\"%s (n = %d)\" % (value, mask.sum()))\n",
    "\n",
    "plt.ylabel(\"est. probability of survival $\\hat{S}(t)$\")\n",
    "plt.xlabel(\"time $t$\")\n",
    "plt.legend(loc=\"best\")"
   ]
  },
  {
   "cell_type": "code",
   "execution_count": 6,
   "metadata": {},
   "outputs": [
    {
     "data": {
      "text/plain": [
       "<matplotlib.legend.Legend at 0x7f1011283a20>"
      ]
     },
     "execution_count": 6,
     "metadata": {},
     "output_type": "execute_result"
    },
    {
     "data": {
      "image/png": "[encoded data removed]",
      "text/plain": [
       "<Figure size 432x288 with 1 Axes>"
      ]
     },
     "metadata": {
      "needs_background": "light"
     },
     "output_type": "display_data"
    }
   ],
   "source": [
    "#separated by tumor_stage\n",
    "for value in df[\"tumor_stage\"].unique():\n",
    "    mask = df[\"tumor_stage\"] == value\n",
    "    time, survival_prob = kaplan_meier_estimator(df[\"vital_status\"][mask], df[\"days_to_birth\"][mask])\n",
    "    plt.step(time, survival_prob, where=\"post\",\n",
    "             label=\"%s (n = %d)\" % (value, mask.sum()))\n",
    "\n",
    "plt.ylabel(\"est. probability of survival $\\hat{S}(t)$\")\n",
    "plt.xlabel(\"time $t$\")\n",
    "plt.legend(loc=\"best\")"
   ]
  },
  {
   "cell_type": "code",
   "execution_count": 7,
   "metadata": {},
   "outputs": [],
   "source": [
    "#tumor_stage grouping\n",
    "stage_group = {\n",
    "    'stage i':'stage i~ii',\n",
    "    'stage ii':'stage i~ii',\n",
    "    'stage iii':'stage iii~iv',\n",
    "    'stage iva':'stage iii~iv',\n",
    "    'stage ivb':'stage iii~iv',\n",
    "    'stage ivc':'stage iii~iv',\n",
    "    'not reported':'not reported'\n",
    "}\n",
    "\n",
    "df[\"tumor_group\"] = df[\"tumor_stage\"].apply(lambda x: stage_group[x])"
   ]
  },
  {
   "cell_type": "code",
   "execution_count": 8,
   "metadata": {},
   "outputs": [
    {
     "data": {
      "text/plain": [
       "<matplotlib.legend.Legend at 0x7f101118e8d0>"
      ]
     },
     "execution_count": 8,
     "metadata": {},
     "output_type": "execute_result"
    },
    {
     "data": {
      "image/png": "[encoded data removed]",
      "text/plain": [
       "<Figure size 432x288 with 1 Axes>"
      ]
     },
     "metadata": {
      "needs_background": "light"
     },
     "output_type": "display_data"
    }
   ],
   "source": [
    "#separated by grouped tumor_stage\n",
    "for value in (\"stage i~ii\", \"stage iii~iv\"):\n",
    "    mask = df[\"tumor_group\"] == value\n",
    "    time, survival_prob = kaplan_meier_estimator(df[\"vital_status\"][mask], df[\"days_to_birth\"][mask])\n",
    "    plt.step(time, survival_prob, where=\"post\",\n",
    "             label=\"%s (n = %d)\" % (value, mask.sum()))\n",
    "\n",
    "plt.ylabel(\"est. probability of survival $\\hat{S}(t)$\")\n",
    "plt.xlabel(\"time $t$\")\n",
    "plt.legend(loc=\"best\")"
   ]
  },
  {
   "cell_type": "markdown",
   "metadata": {},
   "source": [
    "---"
   ]
  },
  {
   "cell_type": "code",
   "execution_count": 9,
   "metadata": {},
   "outputs": [
    {
     "data": {
      "text/html": [
       "<div>\n",
       "<style scoped>\n",
       "    .dataframe tbody tr th:only-of-type {\n",
       "        vertical-align: middle;\n",
       "    }\n",
       "\n",
       "    .dataframe tbody tr th {\n",
       "        vertical-align: top;\n",
       "    }\n",
       "\n",
       "    .dataframe thead th {\n",
       "        text-align: right;\n",
       "    }\n",
       "</style>\n",
       "<table border=\"1\" class=\"dataframe\">\n",
       "  <thead>\n",
       "    <tr style=\"text-align: right;\">\n",
       "      <th></th>\n",
       "      <th>vital_status=True</th>\n",
       "      <th>days_to_birth</th>\n",
       "      <th>gender=male</th>\n",
       "      <th>race=asian</th>\n",
       "      <th>race=black or african american</th>\n",
       "      <th>race=not reported</th>\n",
       "      <th>race=white</th>\n",
       "    </tr>\n",
       "  </thead>\n",
       "  <tbody>\n",
       "    <tr>\n",
       "      <th>0</th>\n",
       "      <td>1.0</td>\n",
       "      <td>17971</td>\n",
       "      <td>1.0</td>\n",
       "      <td>0.0</td>\n",
       "      <td>0.0</td>\n",
       "      <td>0.0</td>\n",
       "      <td>1.0</td>\n",
       "    </tr>\n",
       "    <tr>\n",
       "      <th>1</th>\n",
       "      <td>1.0</td>\n",
       "      <td>19518</td>\n",
       "      <td>1.0</td>\n",
       "      <td>0.0</td>\n",
       "      <td>0.0</td>\n",
       "      <td>0.0</td>\n",
       "      <td>1.0</td>\n",
       "    </tr>\n",
       "    <tr>\n",
       "      <th>2</th>\n",
       "      <td>1.0</td>\n",
       "      <td>32022</td>\n",
       "      <td>0.0</td>\n",
       "      <td>0.0</td>\n",
       "      <td>0.0</td>\n",
       "      <td>1.0</td>\n",
       "      <td>0.0</td>\n",
       "    </tr>\n",
       "    <tr>\n",
       "      <th>3</th>\n",
       "      <td>1.0</td>\n",
       "      <td>23955</td>\n",
       "      <td>1.0</td>\n",
       "      <td>0.0</td>\n",
       "      <td>0.0</td>\n",
       "      <td>0.0</td>\n",
       "      <td>1.0</td>\n",
       "    </tr>\n",
       "    <tr>\n",
       "      <th>4</th>\n",
       "      <td>1.0</td>\n",
       "      <td>28466</td>\n",
       "      <td>1.0</td>\n",
       "      <td>0.0</td>\n",
       "      <td>0.0</td>\n",
       "      <td>0.0</td>\n",
       "      <td>1.0</td>\n",
       "    </tr>\n",
       "  </tbody>\n",
       "</table>\n",
       "</div>"
      ],
      "text/plain": [
       "   vital_status=True  days_to_birth  gender=male  race=asian  \\\n",
       "0                1.0          17971          1.0         0.0   \n",
       "1                1.0          19518          1.0         0.0   \n",
       "2                1.0          32022          0.0         0.0   \n",
       "3                1.0          23955          1.0         0.0   \n",
       "4                1.0          28466          1.0         0.0   \n",
       "\n",
       "   race=black or african american  race=not reported  race=white  \n",
       "0                             0.0                0.0         1.0  \n",
       "1                             0.0                0.0         1.0  \n",
       "2                             0.0                1.0         0.0  \n",
       "3                             0.0                0.0         1.0  \n",
       "4                             0.0                0.0         1.0  "
      ]
     },
     "execution_count": 9,
     "metadata": {},
     "output_type": "execute_result"
    }
   ],
   "source": [
    "#'days_to_birth','tissue_or_organ_of_origin','morphology','race','tumor_stage','gender','primary_diagnosis'\n",
    "df2 = df.loc(axis=1)[\"vital_status\",\"days_to_birth\",'gender','race']\n",
    "\n",
    "#one hot encoding\n",
    "df2.iloc(axis=1)[0] = df2.iloc(axis=1)[0].astype('category')\n",
    "df2.iloc(axis=1)[1] = df2.iloc(axis=1)[1].astype('int')\n",
    "for i in range(2,df2.shape[1]):\n",
    "    df2.iloc(axis=1)[i] = df2.iloc(axis=1)[i].astype('category')\n",
    "\n",
    "df2_num = OneHotEncoder().fit_transform(df2)\n",
    "df2_num.head()"
   ]
  },
  {
   "cell_type": "code",
   "execution_count": 10,
   "metadata": {},
   "outputs": [
    {
     "name": "stdout",
     "output_type": "stream",
     "text": [
      "<lifelines.CoxPHFitter: fitted with 527 observations, 303 censored>\n",
      "      duration col = 'days_to_birth'\n",
      "         event col = 'vital_status=True'\n",
      "number of subjects = 527\n",
      "  number of events = 224\n",
      "partial log-likelihood = -1130.02\n",
      "  time fit was run = 2019-07-24 17:09:07 UTC\n",
      "\n",
      "---\n",
      "                                coef exp(coef)  se(coef)  coef lower 95%  coef upper 95% exp(coef) lower 95% exp(coef) upper 95%\n",
      "gender=male                     0.24      1.27      0.15           -0.06            0.53                0.95                1.69\n",
      "race=asian                     -0.55      0.58      1.12           -2.75            1.65                0.06                5.18\n",
      "race=black or african american -0.30      0.74      1.02           -2.31            1.70                0.10                5.48\n",
      "race=not reported              -0.97      0.38      1.09           -3.09            1.16                0.05                3.20\n",
      "race=white                     -0.86      0.42      1.01           -2.83            1.11                0.06                3.04\n",
      "\n",
      "                                   z    p  -log2(p)\n",
      "gender=male                     1.58 0.11      3.14\n",
      "race=asian                     -0.49 0.62      0.68\n",
      "race=black or african american -0.30 0.77      0.38\n",
      "race=not reported              -0.89 0.37      1.42\n",
      "race=white                     -0.85 0.39      1.35\n",
      "---\n",
      "Concordance = 0.55\n",
      "Log-likelihood ratio test = 9.92 on 5 df, -log2(p)=3.69\n"
     ]
    }
   ],
   "source": [
    "#cox proportional hazards model\n",
    "cph = CoxPHFitter()\n",
    "cph.fit(df2_num, duration_col='days_to_birth', event_col='vital_status=True')\n",
    "cph.print_summary()"
   ]
  },
  {
   "cell_type": "code",
   "execution_count": 11,
   "metadata": {},
   "outputs": [
    {
     "data": {
      "text/plain": [
       "<matplotlib.axes._subplots.AxesSubplot at 0x7f10110e3f60>"
      ]
     },
     "execution_count": 11,
     "metadata": {},
     "output_type": "execute_result"
    },
    {
     "data": {
      "image/png": "[encoded data removed]",
      "text/plain": [
       "<Figure size 432x288 with 1 Axes>"
      ]
     },
     "metadata": {
      "needs_background": "light"
     },
     "output_type": "display_data"
    }
   ],
   "source": [
    "cph.plot()"
   ]
  },
  {
   "cell_type": "code",
   "execution_count": 12,
   "metadata": {},
   "outputs": [
    {
     "data": {
      "text/plain": [
       "<matplotlib.axes._subplots.AxesSubplot at 0x7f100f92da58>"
      ]
     },
     "execution_count": 12,
     "metadata": {},
     "output_type": "execute_result"
    },
    {
     "data": {
      "image/png": "[encoded data removed]",
      "text/plain": [
       "<Figure size 432x288 with 1 Axes>"
      ]
     },
     "metadata": {
      "needs_background": "light"
     },
     "output_type": "display_data"
    }
   ],
   "source": [
    "#0~9 sample plot\n",
    "cph.predict_survival_function(df2_num.iloc[0:10]).plot()"
   ]
  }
 ],
 "metadata": {
  "kernelspec": {
   "display_name": "Python 3",
   "language": "python",
   "name": "python3"
  },
  "language_info": {
   "codemirror_mode": {
    "name": "ipython",
    "version": 3
   },
   "file_extension": ".py",
   "mimetype": "text/x-python",
   "name": "python",
   "nbconvert_exporter": "python",
   "pygments_lexer": "ipython3",
   "version": "3.7.3"
  }
 },
 "nbformat": 4,
 "nbformat_minor": 2
}
