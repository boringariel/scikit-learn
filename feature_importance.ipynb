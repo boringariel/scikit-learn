{
 "cells": [
  {
   "cell_type": "markdown",
   "metadata": {},
   "source": [
    "## infected virus sample을 이용한 feature importance 알아보기\n",
    "\n",
    "* scikit-learn을 이용해 sample에서 feature importance를 알아본다\n",
    "* 사용 모델: RandomForestClassifier\n",
    "\n",
    "---"
   ]
  },
  {
   "cell_type": "code",
   "execution_count": 1,
   "metadata": {},
   "outputs": [],
   "source": [
    "import pandas as pd\n",
    "from sklearn.ensemble import RandomForestClassifier\n",
    "import matplotlib.pyplot as plt\n",
    "import seaborn as sb"
   ]
  },
  {
   "cell_type": "code",
   "execution_count": 2,
   "metadata": {},
   "outputs": [],
   "source": [
    "df_vir = pd.read_csv('./Arabidopsis_infected_virus/E-ATMX-34-A-AFFY-2-normalized-expressions.tsv',sep='\\t',comment='#')"
   ]
  },
  {
   "cell_type": "code",
   "execution_count": 3,
   "metadata": {},
   "outputs": [
    {
     "data": {
      "text/html": [
       "<div>\n",
       "<style scoped>\n",
       "    .dataframe tbody tr th:only-of-type {\n",
       "        vertical-align: middle;\n",
       "    }\n",
       "\n",
       "    .dataframe tbody tr th {\n",
       "        vertical-align: top;\n",
       "    }\n",
       "\n",
       "    .dataframe thead th {\n",
       "        text-align: right;\n",
       "    }\n",
       "</style>\n",
       "<table border=\"1\" class=\"dataframe\">\n",
       "  <thead>\n",
       "    <tr style=\"text-align: right;\">\n",
       "      <th></th>\n",
       "      <th>Gene ID</th>\n",
       "      <th>Gene Name</th>\n",
       "      <th>DesignElementAccession</th>\n",
       "      <th>H_12CaLCuV-P</th>\n",
       "      <th>H_12CaLCuV-R</th>\n",
       "      <th>H_12Mock-R</th>\n",
       "      <th>H_12CaLCuV-Q</th>\n",
       "      <th>H_12Mock-Q</th>\n",
       "      <th>H_12Mock-P</th>\n",
       "    </tr>\n",
       "  </thead>\n",
       "  <tbody>\n",
       "    <tr>\n",
       "      <th>0</th>\n",
       "      <td>AT1G01010</td>\n",
       "      <td>NAC001</td>\n",
       "      <td>261585_at</td>\n",
       "      <td>3.954299</td>\n",
       "      <td>4.133589</td>\n",
       "      <td>2.682620</td>\n",
       "      <td>3.392546</td>\n",
       "      <td>3.502393</td>\n",
       "      <td>2.547950</td>\n",
       "    </tr>\n",
       "    <tr>\n",
       "      <th>1</th>\n",
       "      <td>AT1G01030</td>\n",
       "      <td>NGA3</td>\n",
       "      <td>261568_at</td>\n",
       "      <td>2.479785</td>\n",
       "      <td>2.540493</td>\n",
       "      <td>2.842658</td>\n",
       "      <td>2.374759</td>\n",
       "      <td>2.831915</td>\n",
       "      <td>2.696394</td>\n",
       "    </tr>\n",
       "    <tr>\n",
       "      <th>2</th>\n",
       "      <td>AT1G01040</td>\n",
       "      <td>DCL1</td>\n",
       "      <td>261584_at</td>\n",
       "      <td>3.075865</td>\n",
       "      <td>2.906572</td>\n",
       "      <td>2.527687</td>\n",
       "      <td>2.730614</td>\n",
       "      <td>2.650926</td>\n",
       "      <td>2.420992</td>\n",
       "    </tr>\n",
       "    <tr>\n",
       "      <th>3</th>\n",
       "      <td>AT1G01050</td>\n",
       "      <td>PPA1</td>\n",
       "      <td>261579_at</td>\n",
       "      <td>7.101500</td>\n",
       "      <td>6.770761</td>\n",
       "      <td>5.585015</td>\n",
       "      <td>7.304984</td>\n",
       "      <td>6.686611</td>\n",
       "      <td>6.959806</td>\n",
       "    </tr>\n",
       "    <tr>\n",
       "      <th>4</th>\n",
       "      <td>AT1G01060</td>\n",
       "      <td>LHY</td>\n",
       "      <td>261569_at</td>\n",
       "      <td>6.508019</td>\n",
       "      <td>5.265953</td>\n",
       "      <td>3.685536</td>\n",
       "      <td>6.135907</td>\n",
       "      <td>3.475033</td>\n",
       "      <td>4.175904</td>\n",
       "    </tr>\n",
       "  </tbody>\n",
       "</table>\n",
       "</div>"
      ],
      "text/plain": [
       "     Gene ID Gene Name DesignElementAccession  H_12CaLCuV-P  H_12CaLCuV-R  \\\n",
       "0  AT1G01010    NAC001              261585_at      3.954299      4.133589   \n",
       "1  AT1G01030      NGA3              261568_at      2.479785      2.540493   \n",
       "2  AT1G01040      DCL1              261584_at      3.075865      2.906572   \n",
       "3  AT1G01050      PPA1              261579_at      7.101500      6.770761   \n",
       "4  AT1G01060       LHY              261569_at      6.508019      5.265953   \n",
       "\n",
       "   H_12Mock-R  H_12CaLCuV-Q  H_12Mock-Q  H_12Mock-P  \n",
       "0    2.682620      3.392546    3.502393    2.547950  \n",
       "1    2.842658      2.374759    2.831915    2.696394  \n",
       "2    2.527687      2.730614    2.650926    2.420992  \n",
       "3    5.585015      7.304984    6.686611    6.959806  \n",
       "4    3.685536      6.135907    3.475033    4.175904  "
      ]
     },
     "execution_count": 3,
     "metadata": {},
     "output_type": "execute_result"
    }
   ],
   "source": [
    "df_vir.head()"
   ]
  },
  {
   "cell_type": "code",
   "execution_count": 4,
   "metadata": {},
   "outputs": [],
   "source": [
    "c = df_vir.columns[[1,3,4,5,6,7,8]]\n",
    "df_vir_c_ix = df_vir[c].set_index('Gene Name').fillna(0)"
   ]
  },
  {
   "cell_type": "code",
   "execution_count": 5,
   "metadata": {},
   "outputs": [
    {
     "data": {
      "text/html": [
       "<div>\n",
       "<style scoped>\n",
       "    .dataframe tbody tr th:only-of-type {\n",
       "        vertical-align: middle;\n",
       "    }\n",
       "\n",
       "    .dataframe tbody tr th {\n",
       "        vertical-align: top;\n",
       "    }\n",
       "\n",
       "    .dataframe thead th {\n",
       "        text-align: right;\n",
       "    }\n",
       "</style>\n",
       "<table border=\"1\" class=\"dataframe\">\n",
       "  <thead>\n",
       "    <tr style=\"text-align: right;\">\n",
       "      <th></th>\n",
       "      <th>H_12CaLCuV-P</th>\n",
       "      <th>H_12CaLCuV-R</th>\n",
       "      <th>H_12Mock-R</th>\n",
       "      <th>H_12CaLCuV-Q</th>\n",
       "      <th>H_12Mock-Q</th>\n",
       "      <th>H_12Mock-P</th>\n",
       "    </tr>\n",
       "    <tr>\n",
       "      <th>Gene Name</th>\n",
       "      <th></th>\n",
       "      <th></th>\n",
       "      <th></th>\n",
       "      <th></th>\n",
       "      <th></th>\n",
       "      <th></th>\n",
       "    </tr>\n",
       "  </thead>\n",
       "  <tbody>\n",
       "    <tr>\n",
       "      <th>NAC001</th>\n",
       "      <td>3.954299</td>\n",
       "      <td>4.133589</td>\n",
       "      <td>2.682620</td>\n",
       "      <td>3.392546</td>\n",
       "      <td>3.502393</td>\n",
       "      <td>2.547950</td>\n",
       "    </tr>\n",
       "    <tr>\n",
       "      <th>NGA3</th>\n",
       "      <td>2.479785</td>\n",
       "      <td>2.540493</td>\n",
       "      <td>2.842658</td>\n",
       "      <td>2.374759</td>\n",
       "      <td>2.831915</td>\n",
       "      <td>2.696394</td>\n",
       "    </tr>\n",
       "    <tr>\n",
       "      <th>DCL1</th>\n",
       "      <td>3.075865</td>\n",
       "      <td>2.906572</td>\n",
       "      <td>2.527687</td>\n",
       "      <td>2.730614</td>\n",
       "      <td>2.650926</td>\n",
       "      <td>2.420992</td>\n",
       "    </tr>\n",
       "    <tr>\n",
       "      <th>PPA1</th>\n",
       "      <td>7.101500</td>\n",
       "      <td>6.770761</td>\n",
       "      <td>5.585015</td>\n",
       "      <td>7.304984</td>\n",
       "      <td>6.686611</td>\n",
       "      <td>6.959806</td>\n",
       "    </tr>\n",
       "    <tr>\n",
       "      <th>LHY</th>\n",
       "      <td>6.508019</td>\n",
       "      <td>5.265953</td>\n",
       "      <td>3.685536</td>\n",
       "      <td>6.135907</td>\n",
       "      <td>3.475033</td>\n",
       "      <td>4.175904</td>\n",
       "    </tr>\n",
       "  </tbody>\n",
       "</table>\n",
       "</div>"
      ],
      "text/plain": [
       "           H_12CaLCuV-P  H_12CaLCuV-R  H_12Mock-R  H_12CaLCuV-Q  H_12Mock-Q  \\\n",
       "Gene Name                                                                     \n",
       "NAC001         3.954299      4.133589    2.682620      3.392546    3.502393   \n",
       "NGA3           2.479785      2.540493    2.842658      2.374759    2.831915   \n",
       "DCL1           3.075865      2.906572    2.527687      2.730614    2.650926   \n",
       "PPA1           7.101500      6.770761    5.585015      7.304984    6.686611   \n",
       "LHY            6.508019      5.265953    3.685536      6.135907    3.475033   \n",
       "\n",
       "           H_12Mock-P  \n",
       "Gene Name              \n",
       "NAC001       2.547950  \n",
       "NGA3         2.696394  \n",
       "DCL1         2.420992  \n",
       "PPA1         6.959806  \n",
       "LHY          4.175904  "
      ]
     },
     "execution_count": 5,
     "metadata": {},
     "output_type": "execute_result"
    }
   ],
   "source": [
    "df_vir_c_ix.head()"
   ]
  },
  {
   "cell_type": "code",
   "execution_count": 6,
   "metadata": {},
   "outputs": [],
   "source": [
    "X = df_vir_c_ix.values.T"
   ]
  },
  {
   "cell_type": "code",
   "execution_count": 7,
   "metadata": {},
   "outputs": [],
   "source": [
    "#H_12CaLCuV-P 형식에서 H_12CaLCuV 형식으로 이름 변경\n",
    "samples = []\n",
    "for i in df_vir_c_ix.columns:\n",
    "    sample = i.split('-')[0]\n",
    "    samples.append(sample)\n",
    "\n",
    "samples_ix = list(set(samples))    #중복 제거\n",
    "\n",
    "#분류 항목을 binary 형식으로 변경\n",
    "y = []\n",
    "for i in df_vir_c_ix.columns:\n",
    "    sample = i.split('-')[0]\n",
    "    y.append(samples_ix.index(sample))"
   ]
  },
  {
   "cell_type": "code",
   "execution_count": 8,
   "metadata": {},
   "outputs": [],
   "source": [
    "#RandomForestClassifier를 이용한 분류 작업\n",
    "rf = RandomForestClassifier(n_estimators=2000,random_state=0)"
   ]
  },
  {
   "cell_type": "code",
   "execution_count": 9,
   "metadata": {},
   "outputs": [
    {
     "data": {
      "text/plain": [
       "RandomForestClassifier(bootstrap=True, class_weight=None, criterion='gini',\n",
       "            max_depth=None, max_features='auto', max_leaf_nodes=None,\n",
       "            min_impurity_decrease=0.0, min_impurity_split=None,\n",
       "            min_samples_leaf=1, min_samples_split=2,\n",
       "            min_weight_fraction_leaf=0.0, n_estimators=2000, n_jobs=None,\n",
       "            oob_score=False, random_state=0, verbose=0, warm_start=False)"
      ]
     },
     "execution_count": 9,
     "metadata": {},
     "output_type": "execute_result"
    }
   ],
   "source": [
    "rf.fit(X,y)"
   ]
  },
  {
   "cell_type": "code",
   "execution_count": 10,
   "metadata": {},
   "outputs": [
    {
     "data": {
      "image/png": "[encoded data removed]",
      "text/plain": [
       "<Figure size 432x288 with 1 Axes>"
      ]
     },
     "metadata": {
      "needs_background": "light"
     },
     "output_type": "display_data"
    }
   ],
   "source": [
    "#feature importance 확인하기\n",
    "ax = sb.distplot(rf.feature_importances_, kde=False)\n",
    "ax.set_yscale('log')"
   ]
  },
  {
   "cell_type": "code",
   "execution_count": 11,
   "metadata": {},
   "outputs": [],
   "source": [
    "#특정 feature importance 이상의 데이터만 골라 마스킹\n",
    "m = rf.feature_importances_ > 0.0008"
   ]
  },
  {
   "cell_type": "code",
   "execution_count": 12,
   "metadata": {},
   "outputs": [
    {
     "data": {
      "text/plain": [
       "<seaborn.matrix.ClusterGrid at 0x7fb7b5df67b8>"
      ]
     },
     "execution_count": 12,
     "metadata": {},
     "output_type": "execute_result"
    },
    {
     "data": {
      "image/png": "[encoded data removed]",
      "text/plain": [
       "<Figure size 720x720 with 4 Axes>"
      ]
     },
     "metadata": {
      "needs_background": "light"
     },
     "output_type": "display_data"
    }
   ],
   "source": [
    "sb.clustermap(df_vir_c_ix[m],standard_scale=0)"
   ]
  }
 ],
 "metadata": {
  "kernelspec": {
   "display_name": "Python 3",
   "language": "python",
   "name": "python3"
  },
  "language_info": {
   "codemirror_mode": {
    "name": "ipython",
    "version": 3
   },
   "file_extension": ".py",
   "mimetype": "text/x-python",
   "name": "python",
   "nbconvert_exporter": "python",
   "pygments_lexer": "ipython3",
   "version": "3.7.3"
  }
 },
 "nbformat": 4,
 "nbformat_minor": 2
}
