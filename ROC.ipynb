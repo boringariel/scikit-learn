{
 "cells": [
  {
   "cell_type": "code",
   "execution_count": 13,
   "metadata": {},
   "outputs": [
    {
     "name": "stdout",
     "output_type": "stream",
     "text": [
      "Requirement already satisfied: sklearn in c:\\users\\bioinfo205_01\\anaconda3\\lib\\site-packages (0.0)\n",
      "Requirement already satisfied: scikit-learn in c:\\users\\bioinfo205_01\\anaconda3\\lib\\site-packages (from sklearn) (0.20.1)\n",
      "Requirement already satisfied: numpy>=1.8.2 in c:\\users\\bioinfo205_01\\anaconda3\\lib\\site-packages (from scikit-learn->sklearn) (1.15.4)\n",
      "Requirement already satisfied: scipy>=0.13.3 in c:\\users\\bioinfo205_01\\anaconda3\\lib\\site-packages (from scikit-learn->sklearn) (1.4.1)\n"
     ]
    }
   ],
   "source": [
    "#사이킷런 패키지를 필요로 합니다. 설치하지 않았다면 아래 코드를 이용해 설치해 주세요.\n",
    "!pip install sklearn"
   ]
  },
  {
   "cell_type": "code",
   "execution_count": 2,
   "metadata": {},
   "outputs": [],
   "source": [
    "import numpy as np\n",
    "import pandas as pd\n",
    "import matplotlib.pyplot as plt\n",
    "\n",
    "# roc curve and auc score\n",
    "from sklearn.metrics import roc_curve\n",
    "from sklearn.metrics import roc_auc_score\n",
    "from sklearn.preprocessing import LabelEncoder"
   ]
  },
  {
   "cell_type": "code",
   "execution_count": 3,
   "metadata": {},
   "outputs": [],
   "source": [
    "#한국어가 들어있는 파일은 파이썬에서 읽을 때 오류가 납니다. 영어만 사용하는 것을 권장합니다.\n",
    "df = pd.read_csv('./GastricNormal2.csv', index_col=0)"
   ]
  },
  {
   "cell_type": "code",
   "execution_count": 4,
   "metadata": {},
   "outputs": [],
   "source": [
    "#전달해주신 데이터는 1~100번째 sample을 제외하고는 stage, gender 정보가 없어서 1~100번째 sample만 사용했습니다.\n",
    "df = df[0:100]"
   ]
  },
  {
   "cell_type": "code",
   "execution_count": 5,
   "metadata": {},
   "outputs": [],
   "source": [
    "#각 stage 정보 'IA', 'IIA', 'IIIB', 'IB', 'IIIA', 'IIB', 'IIIC', 'IV'를 각각 0, 2, 5, 1, 4, 3, 6, 7로 자동 변환하여 stage_encoded라는 column으로 저장하는 코드입니다.\n",
    "\n",
    "stage = df['stage'].values\n",
    "\n",
    "encoder = LabelEncoder()\n",
    "encoder.fit(stage)\n",
    "labels = encoder.transform(stage)\n",
    "\n",
    "df['stage_encoded'] = labels"
   ]
  },
  {
   "cell_type": "code",
   "execution_count": 6,
   "metadata": {},
   "outputs": [],
   "source": [
    "#stage_encoded의 대소 비교를 통해 stage I~II를 0으로, III~IV를 1로 분류하여 stage_encoded2라는 column으로 저장하는 코드입니다.\n",
    "\n",
    "stage = []\n",
    "\n",
    "for i in range(0,len(df)):\n",
    "    if df['stage_encoded'][i+1] >= 4:\n",
    "        stage.append(0)\n",
    "    else:\n",
    "        stage.append(1)\n",
    "    \n",
    "df['stage_encoded2'] = stage\n",
    "\n",
    "\n",
    "#gender M = 0, F = 1로 분류하여 gender_encoded라는 column으로 저장하는 코드입니다.\n",
    "\n",
    "gender = []\n",
    "\n",
    "for i in range(0,len(df)):\n",
    "    if df['gender'][i+1] == 'M':\n",
    "        gender.append(0)\n",
    "    elif df['gender'][i+1] == 'F':\n",
    "        gender.append(1)\n",
    "\n",
    "df['gender_encoded'] = gender"
   ]
  },
  {
   "cell_type": "code",
   "execution_count": 7,
   "metadata": {},
   "outputs": [
    {
     "data": {
      "image/png": "[encoded data removed]",
      "text/plain": [
       "<Figure size 432x288 with 1 Axes>"
      ]
     },
     "metadata": {
      "needs_background": "light"
     },
     "output_type": "display_data"
    }
   ],
   "source": [
    "#concentration을 기준으로 해서, gender, stage 분류를 적용한 ROC curve입니다.\n",
    "\n",
    "\n",
    "#gender_encoded를 이용하여 주황색 plot을 그립니다.\n",
    "\n",
    "probs = df['concentration'].values\n",
    "testy = df['gender_encoded'].values\n",
    "\n",
    "fpr, tpr, thresholds = roc_curve(testy, probs)\n",
    "\n",
    "plt.plot(fpr, tpr, color='orange', label='gender')\n",
    "\n",
    "\n",
    "#y=x에 해당하는 검은 점선을 그립니다.\n",
    "plt.plot([0, 1], [0, 1], color='black', linestyle='--')\n",
    "\n",
    "plt.xlabel('False Positive Rate')\n",
    "plt.ylabel('True Positive Rate')\n",
    "plt.title('Receiver Operating Characteristic (ROC) Curve')\n",
    "\n",
    "#AUC를 계산하여 x=0.3, y=0.7 좌표에 적어넣습니다.\n",
    "auc = roc_auc_score(testy, probs)\n",
    "plt.text(0.3,0.7,'AUC: %.4f' % auc)\n",
    "\n",
    "\n",
    "#stage_encoded2를 이용하여 파란색 plot을 그립니다.\n",
    "\n",
    "probs2 = df['concentration'].values\n",
    "testy2 = df['stage_encoded2'].values\n",
    "\n",
    "fpr, tpr, thresholds = roc_curve(testy2, probs2)\n",
    "\n",
    "plt.plot(fpr, tpr, color='blue', label='stage')\n",
    "\n",
    "#AUC를 계산하여 x=0.6, y=0.4 좌표에 적어넣습니다.\n",
    "auc = roc_auc_score(testy2, probs2)\n",
    "plt.text(0.6,0.4,'AUC: %.4f' % auc)\n",
    "\n",
    "plt.legend()\n",
    "\n",
    "#ROC.png 파일로 저장합니다.\n",
    "plt.savefig('./ROC.png', dpi=300, bbox_inches='tight')"
   ]
  },
  {
   "cell_type": "code",
   "execution_count": null,
   "metadata": {},
   "outputs": [],
   "source": []
  },
  {
   "cell_type": "code",
   "execution_count": null,
   "metadata": {},
   "outputs": [],
   "source": []
  },
  {
   "cell_type": "code",
   "execution_count": null,
   "metadata": {},
   "outputs": [],
   "source": []
  }
 ],
 "metadata": {
  "kernelspec": {
   "display_name": "Python 3",
   "language": "python",
   "name": "python3"
  },
  "language_info": {
   "codemirror_mode": {
    "name": "ipython",
    "version": 3
   },
   "file_extension": ".py",
   "mimetype": "text/x-python",
   "name": "python",
   "nbconvert_exporter": "python",
   "pygments_lexer": "ipython3",
   "version": "3.7.1"
  }
 },
 "nbformat": 4,
 "nbformat_minor": 2
}
