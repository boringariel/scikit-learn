{
 "cells": [
  {
   "cell_type": "markdown",
   "id": "07481b17-07d5-4a1e-abfd-fc3ce8a0084b",
   "metadata": {},
   "source": [
    "## 파이썬에서 선형회귀(Linear regression)를 이용한 게 나이 예측하기\n",
    "---\n",
    "통계 또는 기계학습을 배우다 보면, 선형 회귀(Linear regression)라는 말을 흔히 들어볼 수 있습니다. 선형 회귀는 통계학 분야에서 예측을 할 때 쉽게 떠올릴 수 있는 모델인데요, 빠른 이해를 위해서 사용 예시를 설명해 드리자면 다음과 같은 사례를 생각해볼 수 있습니다.  \n",
    "</p></br></br>\n",
    "\n",
    "\n",
    "1. 도시의 인구수와 집값의 관계를 이용해서, 향후 인구가 X명 늘어났을 때 집값이 얼마나 오르거나 내릴지 예측을 해 보자!\n",
    "1. 특정 기간의 영화 평점은 실제로 해당 기간 영화의 매출이랑 관계가 있을까?\n",
    "1. A 회사의 주가에 영향을 주는 요인 중 금리, 매출, 점유율 중 어떤 요인이 가장 인과성이 높을까? 등이 있겠죠.  \n",
    "</p></br></br>\n",
    "\n",
    "\n",
    "선형 회귀는 독립 변수 X와 종속 변수 y가 있을 때, X와 y의 선형 방정식으로 나타내는 회귀분석 기법입니다. 이를 이용하면 예측 또는 두 변수 사이의 관계 검증을 할 수 있습니다. 만약 선형 회귀 분석을 해볼 예정이라면, 우선 데이터가 선형성(linearity)을 보여야 한다는 가정이 필요합니다. 아주 단순하게 설명하자면, 일차함수와 비슷한 경향을 띠면 된다는 말이지요(실제로는 일차함수보다 조금 더 확장된 개념입니다). 그리고 데이터가 등분산성(homoskedasticity)을 보여야 한다는 제약, 오차의 독립성, 다중공선성의 부재 등의 가정이 필요합니다.  \n",
    "</p></br></br>\n",
    "\n",
    "\n",
    "이번에는 파이썬(Python)의 기계학습 패키지인 사이킷런(scikit-learn)의 `LinearRegression` 기능을 사용해서 선형회귀를 구현해 보도록 하겠습니다. 여기에 사용할 데이터는 Crab Age Prediction 데이터인데요, 이름 그대로 게의 다양한 정보를 이용해서 나이를 추정할 수 있게끔 만들어둔 데이터입니다. 이 데이터를 이용해서, 게의 길이(Length)를 이용해서 나이(Age)를 예측하는 모델을 만들어 보겠습니다.  \n",
    "</p></br></br>\n",
    "\n"
   ]
  },
  {
   "cell_type": "code",
   "execution_count": 1,
   "id": "55540b07-1cf3-4112-b9e4-46c6009e81dc",
   "metadata": {},
   "outputs": [],
   "source": [
    "# 패키지 및 데이터 불러오기\n",
    "import pandas as pd\n",
    "from sklearn.linear_model import LinearRegression\n",
    "import seaborn as sns\n",
    "reg = LinearRegression()\n",
    "\n",
    "crab = pd.read_csv('./data/CrabAgePrediction.csv')"
   ]
  },
  {
   "cell_type": "code",
   "execution_count": 2,
   "id": "54663213-dfda-4640-8995-3f378fe46483",
   "metadata": {},
   "outputs": [
    {
     "data": {
      "text/html": [
       "<div>\n",
       "<style scoped>\n",
       "    .dataframe tbody tr th:only-of-type {\n",
       "        vertical-align: middle;\n",
       "    }\n",
       "\n",
       "    .dataframe tbody tr th {\n",
       "        vertical-align: top;\n",
       "    }\n",
       "\n",
       "    .dataframe thead th {\n",
       "        text-align: right;\n",
       "    }\n",
       "</style>\n",
       "<table border=\"1\" class=\"dataframe\">\n",
       "  <thead>\n",
       "    <tr style=\"text-align: right;\">\n",
       "      <th></th>\n",
       "      <th>Sex</th>\n",
       "      <th>Length</th>\n",
       "      <th>Diameter</th>\n",
       "      <th>Height</th>\n",
       "      <th>Weight</th>\n",
       "      <th>Shucked Weight</th>\n",
       "      <th>Viscera Weight</th>\n",
       "      <th>Shell Weight</th>\n",
       "      <th>Age</th>\n",
       "    </tr>\n",
       "  </thead>\n",
       "  <tbody>\n",
       "    <tr>\n",
       "      <th>0</th>\n",
       "      <td>F</td>\n",
       "      <td>1.4375</td>\n",
       "      <td>1.1750</td>\n",
       "      <td>0.4125</td>\n",
       "      <td>24.635715</td>\n",
       "      <td>12.332033</td>\n",
       "      <td>5.584852</td>\n",
       "      <td>6.747181</td>\n",
       "      <td>9</td>\n",
       "    </tr>\n",
       "    <tr>\n",
       "      <th>1</th>\n",
       "      <td>M</td>\n",
       "      <td>0.8875</td>\n",
       "      <td>0.6500</td>\n",
       "      <td>0.2125</td>\n",
       "      <td>5.400580</td>\n",
       "      <td>2.296310</td>\n",
       "      <td>1.374951</td>\n",
       "      <td>1.559222</td>\n",
       "      <td>6</td>\n",
       "    </tr>\n",
       "    <tr>\n",
       "      <th>2</th>\n",
       "      <td>I</td>\n",
       "      <td>1.0375</td>\n",
       "      <td>0.7750</td>\n",
       "      <td>0.2500</td>\n",
       "      <td>7.952035</td>\n",
       "      <td>3.231843</td>\n",
       "      <td>1.601747</td>\n",
       "      <td>2.764076</td>\n",
       "      <td>6</td>\n",
       "    </tr>\n",
       "    <tr>\n",
       "      <th>3</th>\n",
       "      <td>F</td>\n",
       "      <td>1.1750</td>\n",
       "      <td>0.8875</td>\n",
       "      <td>0.2500</td>\n",
       "      <td>13.480187</td>\n",
       "      <td>4.748541</td>\n",
       "      <td>2.282135</td>\n",
       "      <td>5.244657</td>\n",
       "      <td>10</td>\n",
       "    </tr>\n",
       "    <tr>\n",
       "      <th>4</th>\n",
       "      <td>I</td>\n",
       "      <td>0.8875</td>\n",
       "      <td>0.6625</td>\n",
       "      <td>0.2125</td>\n",
       "      <td>6.903103</td>\n",
       "      <td>3.458639</td>\n",
       "      <td>1.488349</td>\n",
       "      <td>1.700970</td>\n",
       "      <td>6</td>\n",
       "    </tr>\n",
       "  </tbody>\n",
       "</table>\n",
       "</div>"
      ],
      "text/plain": [
       "  Sex  Length  Diameter  Height     Weight  Shucked Weight  Viscera Weight  \\\n",
       "0   F  1.4375    1.1750  0.4125  24.635715       12.332033        5.584852   \n",
       "1   M  0.8875    0.6500  0.2125   5.400580        2.296310        1.374951   \n",
       "2   I  1.0375    0.7750  0.2500   7.952035        3.231843        1.601747   \n",
       "3   F  1.1750    0.8875  0.2500  13.480187        4.748541        2.282135   \n",
       "4   I  0.8875    0.6625  0.2125   6.903103        3.458639        1.488349   \n",
       "\n",
       "   Shell Weight  Age  \n",
       "0      6.747181    9  \n",
       "1      1.559222    6  \n",
       "2      2.764076    6  \n",
       "3      5.244657   10  \n",
       "4      1.700970    6  "
      ]
     },
     "execution_count": 2,
     "metadata": {},
     "output_type": "execute_result"
    }
   ],
   "source": [
    "crab.head()"
   ]
  },
  {
   "cell_type": "code",
   "execution_count": 3,
   "id": "9fae1c7a-36f2-4382-b71b-858d790e080f",
   "metadata": {},
   "outputs": [
    {
     "data": {
      "text/plain": [
       "<AxesSubplot: xlabel='Length', ylabel='Age'>"
      ]
     },
     "execution_count": 3,
     "metadata": {},
     "output_type": "execute_result"
    },
    {
     "data": {
      "image/png": "[encoded data removed]",
      "text/plain": [
       "<Figure size 640x480 with 1 Axes>"
      ]
     },
     "metadata": {},
     "output_type": "display_data"
    }
   ],
   "source": [
    "sns.regplot(data=crab, x='Length', y='Age', marker='+')"
   ]
  },
  {
   "cell_type": "markdown",
   "id": "a03e2b62-dec2-49c8-9dae-9b6592213631",
   "metadata": {},
   "source": [
    "</p></br></br>\n",
    "\n",
    "\n",
    "Crab Age Prediction 데이터는 깔끔하게 잘 정리되어 있고, Length와 Age가 양의 상관관계를 보이는 것으로 추정되는 데이터셋입니다. 여기서는 특별한 전처리는 거치지 않고 그대로 모델에 집어넣어보는 작업만 해둘 예정입니다. 사이킷런은 대부분의 기능이 X, Y 데이터를 넣으고, `fit()` 함수와 `predict()` 함수 정도만 입력하면 간편하게 예측 기능을 이용할 수 있기 때문에 이번 기회에 하나 외워두시면 모델별로 예측 기능은 마스터했다고 생각해 두시면 되겠습니다.  \n",
    "</p></br></br>\n",
    "\n"
   ]
  },
  {
   "cell_type": "code",
   "execution_count": 4,
   "id": "2faea66b-6072-4aa5-9df2-3fa1b098d1c3",
   "metadata": {},
   "outputs": [
    {
     "data": {
      "text/html": [
       "<style>#sk-container-id-1 {color: black;background-color: white;}#sk-container-id-1 pre{padding: 0;}#sk-container-id-1 div.sk-toggleable {background-color: white;}#sk-container-id-1 label.sk-toggleable__label {cursor: pointer;display: block;width: 100%;margin-bottom: 0;padding: 0.3em;box-sizing: border-box;text-align: center;}#sk-container-id-1 label.sk-toggleable__label-arrow:before {content: \"▸\";float: left;margin-right: 0.25em;color: #696969;}#sk-container-id-1 label.sk-toggleable__label-arrow:hover:before {color: black;}#sk-container-id-1 div.sk-estimator:hover label.sk-toggleable__label-arrow:before {color: black;}#sk-container-id-1 div.sk-toggleable__content {max-height: 0;max-width: 0;overflow: hidden;text-align: left;background-color: #f0f8ff;}#sk-container-id-1 div.sk-toggleable__content pre {margin: 0.2em;color: black;border-radius: 0.25em;background-color: #f0f8ff;}#sk-container-id-1 input.sk-toggleable__control:checked~div.sk-toggleable__content {max-height: 200px;max-width: 100%;overflow: auto;}#sk-container-id-1 input.sk-toggleable__control:checked~label.sk-toggleable__label-arrow:before {content: \"▾\";}#sk-container-id-1 div.sk-estimator input.sk-toggleable__control:checked~label.sk-toggleable__label {background-color: #d4ebff;}#sk-container-id-1 div.sk-label input.sk-toggleable__control:checked~label.sk-toggleable__label {background-color: #d4ebff;}#sk-container-id-1 input.sk-hidden--visually {border: 0;clip: rect(1px 1px 1px 1px);clip: rect(1px, 1px, 1px, 1px);height: 1px;margin: -1px;overflow: hidden;padding: 0;position: absolute;width: 1px;}#sk-container-id-1 div.sk-estimator {font-family: monospace;background-color: #f0f8ff;border: 1px dotted black;border-radius: 0.25em;box-sizing: border-box;margin-bottom: 0.5em;}#sk-container-id-1 div.sk-estimator:hover {background-color: #d4ebff;}#sk-container-id-1 div.sk-parallel-item::after {content: \"\";width: 100%;border-bottom: 1px solid gray;flex-grow: 1;}#sk-container-id-1 div.sk-label:hover label.sk-toggleable__label {background-color: #d4ebff;}#sk-container-id-1 div.sk-serial::before {content: \"\";position: absolute;border-left: 1px solid gray;box-sizing: border-box;top: 0;bottom: 0;left: 50%;z-index: 0;}#sk-container-id-1 div.sk-serial {display: flex;flex-direction: column;align-items: center;background-color: white;padding-right: 0.2em;padding-left: 0.2em;position: relative;}#sk-container-id-1 div.sk-item {position: relative;z-index: 1;}#sk-container-id-1 div.sk-parallel {display: flex;align-items: stretch;justify-content: center;background-color: white;position: relative;}#sk-container-id-1 div.sk-item::before, #sk-container-id-1 div.sk-parallel-item::before {content: \"\";position: absolute;border-left: 1px solid gray;box-sizing: border-box;top: 0;bottom: 0;left: 50%;z-index: -1;}#sk-container-id-1 div.sk-parallel-item {display: flex;flex-direction: column;z-index: 1;position: relative;background-color: white;}#sk-container-id-1 div.sk-parallel-item:first-child::after {align-self: flex-end;width: 50%;}#sk-container-id-1 div.sk-parallel-item:last-child::after {align-self: flex-start;width: 50%;}#sk-container-id-1 div.sk-parallel-item:only-child::after {width: 0;}#sk-container-id-1 div.sk-dashed-wrapped {border: 1px dashed gray;margin: 0 0.4em 0.5em 0.4em;box-sizing: border-box;padding-bottom: 0.4em;background-color: white;}#sk-container-id-1 div.sk-label label {font-family: monospace;font-weight: bold;display: inline-block;line-height: 1.2em;}#sk-container-id-1 div.sk-label-container {text-align: center;}#sk-container-id-1 div.sk-container {/* jupyter's `normalize.less` sets `[hidden] { display: none; }` but bootstrap.min.css set `[hidden] { display: none !important; }` so we also need the `!important` here to be able to override the default hidden behavior on the sphinx rendered scikit-learn.org. See: https://github.com/scikit-learn/scikit-learn/issues/21755 */display: inline-block !important;position: relative;}#sk-container-id-1 div.sk-text-repr-fallback {display: none;}</style><div id=\"sk-container-id-1\" class=\"sk-top-container\"><div class=\"sk-text-repr-fallback\"><pre>LinearRegression()</pre><b>In a Jupyter environment, please rerun this cell to show the HTML representation or trust the notebook. <br />On GitHub, the HTML representation is unable to render, please try loading this page with nbviewer.org.</b></div><div class=\"sk-container\" hidden><div class=\"sk-item\"><div class=\"sk-estimator sk-toggleable\"><input class=\"sk-toggleable__control sk-hidden--visually\" id=\"sk-estimator-id-1\" type=\"checkbox\" checked><label for=\"sk-estimator-id-1\" class=\"sk-toggleable__label sk-toggleable__label-arrow\">LinearRegression</label><div class=\"sk-toggleable__content\"><pre>LinearRegression()</pre></div></div></div></div></div>"
      ],
      "text/plain": [
       "LinearRegression()"
      ]
     },
     "execution_count": 4,
     "metadata": {},
     "output_type": "execute_result"
    }
   ],
   "source": [
    "reg.fit(crab['Length'].values.reshape(-1, 1), crab['Age'])"
   ]
  },
  {
   "cell_type": "code",
   "execution_count": 5,
   "id": "8eefb84e-3f20-4d94-8d35-5dabf863a8a8",
   "metadata": {},
   "outputs": [
    {
     "data": {
      "text/plain": [
       "array([20.00245614])"
      ]
     },
     "execution_count": 5,
     "metadata": {},
     "output_type": "execute_result"
    }
   ],
   "source": [
    "reg.predict([[3]])"
   ]
  },
  {
   "cell_type": "markdown",
   "id": "3b84759c-e882-4abb-a4dc-36400e575bec",
   "metadata": {},
   "source": [
    "</p></br></br>\n",
    "\n",
    "\n",
    "이번에는 기존 데이터에는 없는 몸 길이 3피트짜리 게의 경우, 나이를 어느정도로 추정할 수 있는지 예측해 봤습니다. 주어진 데이터를 이용한 예측 결과, 3피트짜리 게는 약 20살 정도로 추정된다고 하네요. 이렇게 어떤 데이터가 주어졌을 때, 기존 데이터를 토대로 미지의 영역에 있는 데이터를 추정할 수 있는 기능이 선형회귀의 주 사용처 중 하나입니다. 물론 최근에는 다른 딥러닝 모델을 이용해 정교한 예측을 하는 추세이지만, 단순히 선형적인 관계를 보이는 데이터일 때는 이정도로만 해도 꽤나 정확한 추정을 할 수 있지요.  "
   ]
  }
 ],
 "metadata": {
  "kernelspec": {
   "display_name": "Python 3 (ipykernel)",
   "language": "python",
   "name": "python3"
  },
  "language_info": {
   "codemirror_mode": {
    "name": "ipython",
    "version": 3
   },
   "file_extension": ".py",
   "mimetype": "text/x-python",
   "name": "python",
   "nbconvert_exporter": "python",
   "pygments_lexer": "ipython3",
   "version": "3.10.9"
  },
  "widgets": {
   "application/vnd.jupyter.widget-state+json": {
    "state": {},
    "version_major": 2,
    "version_minor": 0
   }
  }
 },
 "nbformat": 4,
 "nbformat_minor": 5
}
